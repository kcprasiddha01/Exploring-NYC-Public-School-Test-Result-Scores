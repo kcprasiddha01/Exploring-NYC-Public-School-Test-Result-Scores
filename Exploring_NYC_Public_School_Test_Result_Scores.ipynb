{
  "nbformat": 4,
  "nbformat_minor": 0,
  "metadata": {
    "colab": {
      "provenance": []
    },
    "kernelspec": {
      "name": "python3",
      "display_name": "Python 3"
    },
    "language_info": {
      "name": "python"
    }
  },
  "cells": [
    {
      "cell_type": "markdown",
      "source": [
        "**Exploring NYC Public School Test Result Scores**\n",
        "\n",
        "*Project Instructions*\n",
        "Which NYC schools have the best math results?\n",
        "\n",
        "The best math results are at least 80% of the *maximum possible score of 800* for math.\n",
        "Save your results in a pandas DataFrame called best_math_schools, including \"school_name\" and \"average_math\" columns, sorted by \"average_math\" in descending order.\n",
        "What are the top 10 performing schools based on the combined SAT scores?\n",
        "\n",
        "Save your results as a pandas DataFrame called top_10_schools containing the \"school_name\" and a new column named \"total_SAT\", with results ordered by \"total_SAT\" in descending order (\"total_SAT\" being the sum of math, reading, and writing scores).\n",
        "Which single borough has the largest standard deviation in the combined SAT score?\n",
        "\n",
        "Save your results as a pandas DataFrame called largest_std_dev.\n",
        "The DataFrame should contain one row, with:\n",
        "\"borough\" - the name of the NYC borough with the largest standard deviation of \"total_SAT\".\n",
        "\"num_schools\" - the number of schools in the borough.\n",
        "\"average_SAT\" - the mean of \"total_SAT\".\n",
        "\"std_SAT\" - the standard deviation of \"total_SAT\".\n",
        "Round all numeric values to two decimal places."
      ],
      "metadata": {
        "id": "K3LI5VzSzIFu"
      }
    },
    {
      "cell_type": "code",
      "execution_count": 3,
      "metadata": {
        "colab": {
          "base_uri": "https://localhost:8080/"
        },
        "id": "SHoBdTp1zCQa",
        "outputId": "bc044a6b-b522-4741-d5a2-3ea7193c2653"
      },
      "outputs": [
        {
          "output_type": "stream",
          "name": "stdout",
          "text": [
            "                                         school_name    borough building_code  \\\n",
            "0  New Explorations into Science, Technology and ...  Manhattan          M022   \n",
            "1                               Essex Street Academy  Manhattan          M445   \n",
            "2                       Lower Manhattan Arts Academy  Manhattan          M445   \n",
            "3    High School for Dual Language and Asian Studies  Manhattan          M445   \n",
            "4      Henry Street School for International Studies  Manhattan          M056   \n",
            "\n",
            "   average_math  average_reading  average_writing  percent_tested  \n",
            "0           657              601              601             NaN  \n",
            "1           395              411              387            78.9  \n",
            "2           418              428              415            65.1  \n",
            "3           613              453              463            95.9  \n",
            "4           410              406              381            59.7  \n",
            "                                           school_name  average_math\n",
            "88                              Stuyvesant High School           754\n",
            "170                       Bronx High School of Science           714\n",
            "93                 Staten Island Technical High School           711\n",
            "365  Queens High School for the Sciences at York Co...           701\n",
            "68   High School for Mathematics, Science, and Engi...           683\n",
            "280                     Brooklyn Technical High School           682\n",
            "333                        Townsend Harris High School           680\n",
            "174  High School of American Studies at Lehman College           669\n",
            "0    New Explorations into Science, Technology and ...           657\n",
            "45                       Eleanor Roosevelt High School           641\n",
            "                                           school_name  total_SAT\n",
            "88                              Stuyvesant High School       2144\n",
            "170                       Bronx High School of Science       2041\n",
            "93                 Staten Island Technical High School       2041\n",
            "174  High School of American Studies at Lehman College       2013\n",
            "333                        Townsend Harris High School       1981\n",
            "365  Queens High School for the Sciences at York Co...       1947\n",
            "5                       Bard High School Early College       1914\n",
            "280                     Brooklyn Technical High School       1896\n",
            "45                       Eleanor Roosevelt High School       1889\n",
            "68   High School for Mathematics, Science, and Engi...       1889\n",
            "     borough  num_schools  average_SAT  std_SAT\n",
            "0  Manhattan           89      1340.13   230.29\n"
          ]
        }
      ],
      "source": [
        "# Re-run this cell\n",
        "import pandas as pd\n",
        "\n",
        "# Read in the data\n",
        "schools = pd.read_csv(\"/content/schools.csv\")\n",
        "\n",
        "# Preview the data\n",
        "print(schools.head())\n",
        "\n",
        "#best schools for math\n",
        "best_math_schools = schools[schools['average_math'] > (80/100)*800][['school_name','average_math']].sort_values('average_math',ascending=False)\n",
        "print(best_math_schools)\n",
        "\n",
        "#average SAT result\n",
        "schools['total_SAT'] = schools['average_math']+schools['average_reading']+schools['average_writing']\n",
        "\n",
        "#top 10 performing schools\n",
        "top_10_schools = schools.sort_values('total_SAT',ascending=False)[['school_name','total_SAT']].head(10)\n",
        "print(top_10_schools)\n",
        "\n",
        "#NYC borough with highest standard deviation for total_SAT\n",
        "boroughs = schools.groupby('borough')['total_SAT'].agg(['count','mean','std']).round(2)\n",
        "\n",
        "#filter for max std and making borough a column\n",
        "largest_std_dev = boroughs[boroughs[\"std\"] == boroughs[\"std\"].max()]\n",
        "\n",
        "#Renaming the columns\n",
        "largest_std_dev = largest_std_dev.rename(columns={'count':'num_schools','mean':'average_SAT','std':'std_SAT'})\n",
        "\n",
        "# Moving borough as column than as index\n",
        "largest_std_dev.reset_index(inplace=True)\n",
        "print(largest_std_dev)"
      ]
    }
  ]
}